{
 "cells": [
  {
   "cell_type": "markdown",
   "metadata": {},
   "source": [
    "#### Algorithm.\n",
    "This problem asks for finding all the _*lucky triples*_ in a list which is defined as \"a tuple $(x, y, z)$ where $x$ divides $y$ and $y$ divides $z$.\" So basically we need to check for a pair of numbers $(L_i, L_j)$ in a list $L$ such that $\\mod(L_j, L_i) = 0$, store it temporarily and then check for another pair $(L_j, L_k)$ such that $\\mod(L_k, L_j) = 0$ given $i < j < k$.  \n",
    "This can be solved using a Dynamic Programming (DP)-like approach where for $k$-th entry in the list, we check for all the entries $0 \\leq j < k$ and increase $count$ by $1$ if $\\mod(L_k, L_j) = 0$. The DP part, or more specifically, _memoization_ part comes from the fact as we're going through $L$, we're _already_ storing the entries $L_i$ such that $\\mod(L_j, L_i) = 0$ and transferring this info as we move forward (or to right in this case)- so whenever we find the next pair $(L_j, L_k)$- we can use the previously computed values to check if this is a lucky triple or not.\n"
   ]
  },
  {
   "cell_type": "code",
   "execution_count": 18,
   "metadata": {},
   "outputs": [],
   "source": [
    "\"\"\" Challenge 3.1. Lucky triples \"\"\"\n",
    "\n",
    "## Dynamic programming like [use memoization]...\n",
    "def solution(L, Triples = False):        # Choose Triples = True to get the Lucky triples\n",
    "    div = [[ ] for _ in L]               # List for L[i] s. t. L[j] % L[i] = 0, i < j\n",
    "    triples, count = [ ], 0\n",
    "    for k in range(len(L)):\n",
    "        for j in range(k):\n",
    "            if L[k] % L[j] == 0:         # Already have an L[i] s.t. L[j] % L[i] == 0\n",
    "                div[k] += [j];     count += len(div[j])\n",
    "                if Triples and len(div[j]) > 0:\n",
    "                    for i in div[j]:\n",
    "                        triples.append([L[i], L[j], L[k]])\n",
    "    ## End of nested loops ##\n",
    "    if Triples:    assert count == len(triples)        # Check if the #triples is correct\n",
    "    return (count, triples) if Triples else count\n"
   ]
  },
  {
   "cell_type": "code",
   "execution_count": 19,
   "metadata": {},
   "outputs": [
    {
     "name": "stdout",
     "output_type": "stream",
     "text": [
      "Lucky triple count = 3\n",
      "Wall time: 0 ns\n",
      "Lucky triple count = 1\n",
      "Wall time: 0 ns\n",
      "Lucky triple count = 2\n",
      "Wall time: 0 ns\n",
      "Lucky triple count = 16287\n",
      "Wall time: 297 ms\n"
     ]
    }
   ],
   "source": [
    "## Examples...\n",
    "%time print(\"Lucky triple count = %d\" % solution(L = [1, 2, 3, 4, 5, 6]))\n",
    "%time print(\"Lucky triple count = %d\" % solution(L = [1, 1, 1]))\n",
    "%time print(\"Lucky triple count = %d\" % solution(L = [3, 6, 5, 30, 18]))\n",
    "import numpy as np\n",
    "%time print(\"Lucky triple count = %d\" % solution(L = list(np.arange(1000) + 1)))\n"
   ]
  }
 ],
 "metadata": {
  "kernelspec": {
   "display_name": "Python 3",
   "language": "python",
   "name": "python3"
  },
  "language_info": {
   "codemirror_mode": {
    "name": "ipython",
    "version": 3
   },
   "file_extension": ".py",
   "mimetype": "text/x-python",
   "name": "python",
   "nbconvert_exporter": "python",
   "pygments_lexer": "ipython3",
   "version": "3.7.6"
  }
 },
 "nbformat": 4,
 "nbformat_minor": 1
}
