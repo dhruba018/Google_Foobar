{
 "cells": [
  {
   "cell_type": "markdown",
   "metadata": {},
   "source": [
    "#### Algorithm.\n",
    "Modified BFS\n"
   ]
  },
  {
   "cell_type": "code",
   "execution_count": 15,
   "metadata": {},
   "outputs": [],
   "source": [
    "\"\"\" Challenge 3.3. Shortest path with walls \"\"\"\n",
    "\n",
    "## Modified breadth first search...\n",
    "import collections as col                                                 # For faster queuing\n",
    "\n",
    "class Node:\n",
    "    def __init__(self, loc, wall, Map):\n",
    "        self.x, self.y, self.wall = loc[0], loc[1], wall\n",
    "        self.Map, self.w, self.h = Map, len(Map), len(Map[0])\n",
    "        self.valid = (0 <= self.x < self.w) and (0 <= self.y < self.h)    # Check if a valid node\n",
    "        self.items = (self.x, self.y, self.wall)                          # Items tuple for dist map\n",
    "\n",
    "    def GetNeighbors(self, moves = list(zip([-1, 1, 0, 0], [0, 0, -1, 1]))):    # Default moves\n",
    "        neigh_nodes = col.deque()\n",
    "        for dx, dy in moves:\n",
    "            neigh = Node(loc = (self.x + dx, self.y + dy), wall = self.wall, Map = self.Map)\n",
    "            if neigh.valid:\n",
    "                if self.Map[neigh.x][neigh.y] and (self.wall > 0):  # If remove a wall\n",
    "                    neigh.wall = self.wall - 1\n",
    "                elif not self.Map[neigh.x][neigh.y]:                # If there's no wall\n",
    "                    neigh.wall = self.wall\n",
    "                else:\n",
    "                    continue\n",
    "                neigh_nodes.append(neigh)                           # Valid neighbor set\n",
    "        return neigh_nodes\n",
    "\n",
    "def solution(Map, dist_map = False):\n",
    "    w, h = len(Map), len(Map[0])\n",
    "    src, dest = (0, 0), (w - 1, h - 1)\n",
    "    \n",
    "    ## Initialize...\n",
    "    node_count = col.defaultdict()                     # Distance map for path length\n",
    "    start = Node(loc = src, wall = 1, Map = Map)\n",
    "    path = col.deque([start]);        node_count[start.items] = 1\n",
    "    \n",
    "    ## Start BFS...\n",
    "    while len(path) > 0:\n",
    "        now = path.popleft()\n",
    "        \n",
    "        if (now.x, now.y) == dest:                     # Check if reached destination\n",
    "            return (node_count[now.items], node_count) if dist_map else node_count[now.items]\n",
    "        \n",
    "        for nxt in now.GetNeighbors():\n",
    "            if nxt.items not in node_count.keys():     # Add node to path\n",
    "                node_count[nxt.items] = node_count[now.items] + 1\n",
    "                path.append(nxt)          \n",
    "    ## End of BFS ##\n",
    "    \n",
    "    return (None, node_count) if dist_map else None    # Return none if non-solvable\n"
   ]
  },
  {
   "cell_type": "code",
   "execution_count": 16,
   "metadata": {},
   "outputs": [
    {
     "name": "stdout",
     "output_type": "stream",
     "text": [
      "Length of shortest path =  3\n",
      "Wall time: 5.99 ms\n",
      "Length of shortest path =  5\n",
      "Wall time: 993 µs\n",
      "Length of shortest path =  10\n",
      "Wall time: 998 µs\n",
      "Length of shortest path =  5\n",
      "Wall time: 996 µs\n",
      "Length of shortest path =  39\n",
      "Wall time: 1.99 ms\n",
      "Length of shortest path =  8\n",
      "Wall time: 2.99 ms\n",
      "Length of shortest path =  None\n",
      "Wall time: 0 ns\n",
      "Length of shortest path =  7\n",
      "Wall time: 998 µs\n",
      "Length of shortest path =  11\n",
      "Wall time: 997 µs\n"
     ]
    }
   ],
   "source": [
    "## Examples...\n",
    "%time print(\"Length of shortest path = \", solution(Map = [[0, 0], [0, 0]]))\n",
    "%time print(\"Length of shortest path = \", solution(Map = [[0, 1, 1], [1, 1, 0], [0, 0, 0]]))\n",
    "%time print(\"Length of shortest path = \", solution(Map = [[0, 1, 0, 1, 0, 0, 0], [0, 0, 0, 1, 0, 1, 0]]))\n",
    "%time print(\"Length of shortest path = \", solution(Map = [[0, 1, 0, 0], [0, 0, 1, 0]]))\n",
    "Map = [[0, 0, 1, 0, 0, 0, 0, 0, 0, 0, 0, 0, 0, 0, 0, 0, 0, 0, 0, 0],\n",
    "       [1, 1, 0, 1, 1, 1, 1, 1, 1, 1, 1, 1, 1, 1, 1, 1, 1, 1, 1, 0],\n",
    "       [1, 1, 0, 0, 0, 0, 0, 0, 0, 0, 0, 0, 0, 0, 0, 0, 0, 0, 0, 0],\n",
    "       [1, 1, 1, 0, 0, 1, 1, 1, 1, 1, 1, 1, 1, 1, 1, 1, 1, 1, 1, 1],\n",
    "       [1, 1, 1, 1, 0, 0, 1, 1, 1, 1, 1, 1, 1, 1, 1, 1, 1, 1, 1, 0],\n",
    "       [1, 0, 0, 0, 0, 0, 0, 0, 0, 0, 0, 0, 0, 0, 0, 0, 0, 0, 0, 0],\n",
    "       [1, 1, 1, 1, 1, 1, 0, 1, 1, 1, 1, 1, 1, 1, 1, 1, 1, 1, 1, 0],\n",
    "       [0, 0, 0, 0, 0, 0, 0, 0, 0, 0, 0, 0, 0, 0, 0, 0, 0, 0, 0, 0],\n",
    "       [0, 1, 1, 1, 1, 1, 1, 0, 0, 1, 1, 1, 1, 1, 1, 1, 1, 1, 1, 1],\n",
    "       [0, 1, 1, 1, 1, 1, 1, 1, 0, 0, 1, 1, 1, 1, 1, 1, 1, 1, 1, 1],\n",
    "       [0, 0, 0, 0, 0, 0, 0, 0, 0, 0, 0, 0, 0, 0, 0, 0, 0, 0, 0, 0],\n",
    "       [1, 1, 1, 1, 1, 1, 1, 1, 1, 1, 0, 1, 1, 1, 1, 1, 1, 1, 1, 0],\n",
    "       [0, 0, 0, 0, 0, 0, 0, 0, 0, 0, 0, 0, 0, 0, 0, 0, 0, 0, 0, 0],\n",
    "       [0, 1, 1, 1, 1, 1, 1, 1, 1, 1, 0, 0, 1, 1, 1, 1, 1, 1, 1, 1],\n",
    "       [0, 1, 1, 1, 1, 1, 1, 1, 1, 1, 1, 0, 1, 1, 1, 1, 1, 1, 1, 1],\n",
    "       [0, 0, 0, 0, 0, 0, 0, 0, 0, 0, 0, 0, 0, 0, 0, 0, 0, 0, 0, 0],\n",
    "       [1, 1, 1, 1, 1, 1, 1, 1, 1, 1, 1, 1, 1, 0, 1, 1, 1, 1, 1, 0],\n",
    "       [0, 0, 0, 0, 0, 0, 0, 0, 0, 0, 0, 0, 0, 0, 0, 0, 0, 0, 0, 0],\n",
    "       [0, 1, 1, 1, 1, 1, 1, 1, 1, 1, 1, 1, 1, 1, 1, 1, 1, 1, 1, 0],\n",
    "       [0, 0, 0, 0, 0, 0, 0, 0, 0, 0, 0, 0, 0, 0, 0, 0, 0, 0, 0, 0]]\n",
    "%time print(\"Length of shortest path = \", solution(Map))\n",
    "%time print(\"Length of shortest path = \", solution(Map = [[0, 1, 0, 0], [0, 0, 0, 0], [0, 0, 1, 1], [0, 1, 1, 0], [0, 1, 1, 0]]))\n",
    "%time print(\"Length of shortest path = \", solution(Map = [[0, 1, 0, 0, 1], [0, 1, 1, 1, 0], [0, 1, 1, 0, 0], [0, 1, 1, 0, 0]]))\n",
    "%time print(\"Length of shortest path = \", solution(Map = [[0, 1, 1, 0], [0, 0, 0, 1], [1, 1, 0, 0], [1, 1, 1, 0]]))\n",
    "%time print(\"Length of shortest path = \", solution(Map = [[0, 0, 0, 0, 0, 0], [1, 1, 1, 1, 1, 0], [0, 0, 0, 0, 0, 0],\\\n",
    "                                                          [0, 1, 1, 1, 1, 1], [0, 1, 1, 1, 1, 1], [0, 0, 0, 0, 0, 0]]))\n"
   ]
  }
 ],
 "metadata": {
  "kernelspec": {
   "display_name": "Python 3",
   "language": "python",
   "name": "python3"
  },
  "language_info": {
   "codemirror_mode": {
    "name": "ipython",
    "version": 3
   },
   "file_extension": ".py",
   "mimetype": "text/x-python",
   "name": "python",
   "nbconvert_exporter": "python",
   "pygments_lexer": "ipython3",
   "version": "3.7.6"
  }
 },
 "nbformat": 4,
 "nbformat_minor": 1
}
