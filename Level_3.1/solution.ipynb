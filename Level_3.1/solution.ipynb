{
 "cells": [
  {
   "cell_type": "markdown",
   "metadata": {},
   "source": [
    "#### Algorithm.\n",
    "Dynamic programming-like\n"
   ]
  },
  {
   "cell_type": "code",
   "execution_count": 2,
   "metadata": {},
   "outputs": [],
   "source": [
    "\"\"\" Challenge 3.1. Lucky triples \"\"\"\n",
    "\n",
    "## Dynamic programming like [use memoization]...\n",
    "def solution(L, Triples = False):        # Choose Triples = True to get the Lucky triples\n",
    "    div = [[ ] for _ in L]               # List for L[i] s. t. L[j] % L[i] = 0, i < j\n",
    "    triples, count = [ ], 0\n",
    "    for k in range(len(L)):\n",
    "        for j in range(k):\n",
    "            if L[k] % L[j] == 0:         # Already have an L[i] s.t. L[j] % L[i] == 0\n",
    "                div[k] += [j];     count += len(div[j])\n",
    "                if Triples and len(div[j]) > 0:\n",
    "                    for i in div[j]:\n",
    "                        triples.append([L[i], L[j], L[k]])\n",
    "    ## End of loop ##\n",
    "    \n",
    "    if Triples:\n",
    "        assert count == len(triples)     # Check if the #triples is correct\n",
    "    return (count, triples) if Triples else count\n"
   ]
  },
  {
   "cell_type": "code",
   "execution_count": 3,
   "metadata": {},
   "outputs": [
    {
     "name": "stdout",
     "output_type": "stream",
     "text": [
      "Lucky triple count = 3\n",
      "Lucky triple count = 1\n",
      "Lucky triple count = 2\n",
      "Lucky triple count = 16287\n"
     ]
    }
   ],
   "source": [
    "## Examples...\n",
    "L = [1, 2, 3, 4, 5, 6];    print(\"Lucky triple count = %d\" % solution(L))\n",
    "L = [1, 1, 1];             print(\"Lucky triple count = %d\" % solution(L))\n",
    "L = [3, 6, 5, 30, 18];     print(\"Lucky triple count = %d\" % solution(L))\n",
    "import numpy as np\n",
    "L = list(np.arange(1000) + 1);    print(\"Lucky triple count = %d\" % solution(L))\n"
   ]
  }
 ],
 "metadata": {
  "kernelspec": {
   "display_name": "Python 3",
   "language": "python",
   "name": "python3"
  },
  "language_info": {
   "codemirror_mode": {
    "name": "ipython",
    "version": 3
   },
   "file_extension": ".py",
   "mimetype": "text/x-python",
   "name": "python",
   "nbconvert_exporter": "python",
   "pygments_lexer": "ipython3",
   "version": "3.7.6"
  }
 },
 "nbformat": 4,
 "nbformat_minor": 1
}
