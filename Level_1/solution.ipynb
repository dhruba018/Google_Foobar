## Challenge 1.0. Repeatation

## Filter by frequncy count...
def solution(data, n):
    freq, data_new = { }, [ ]
    for k in data:
        freq[k] = freq[k] + 1 if k in freq else 1
    data_new = [kk for kk in data if freq[kk] <= n]
    return data_new

## Run...
print("Filtered list = ", solution([5, 10, 15, 10, 7], n = 1))
print("Filtered list = ", solution([1, 2, 3], n = 0))
print("Filtered list = ", solution([1, 2, 2, 3, 3, 3, 4, 5, 5], n = 1))
       