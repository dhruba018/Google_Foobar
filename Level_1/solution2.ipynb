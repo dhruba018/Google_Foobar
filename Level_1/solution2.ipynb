  {
   "cell_type": "code",
   "execution_count": 7,
   "metadata": {},
   "outputs": [
    {
     "name": "stdout",
     "output_type": "stream",
     "text": [
      "Filtered list =  [5, 15, 7]\n",
      "Filtered list =  []\n",
      "Filtered list =  [1, 4]\n"
     ]
    }
   ],
   "source": [
    "## Examples...\n",
    "print(\"Filtered list = \", solution([5, 10, 15, 10, 7], n = 1))\n",
    "print(\"Filtered list = \", solution([1, 2, 3], n = 0))\n",
    "print(\"Filtered list = \", solution([1, 2, 2, 3, 3, 3, 4, 5, 5], n = 1))"
   ]
  }
 ],
 "metadata": {
  "kernelspec": {
   "display_name": "Python 3",
   "language": "python",
   "name": "python3"
  },
  "language_info": {
   "codemirror_mode": {
    "name": "ipython",
    "version": 3
   },
   "file_extension": ".py",
   "mimetype": "text/x-python",
   "name": "python",
   "nbconvert_exporter": "python",
   "pygments_lexer": "ipython3",
   "version": "3.7.6"
  }
 },
 "nbformat": 4,
 "nbformat_minor": 4
}
