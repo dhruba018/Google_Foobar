{
 "cells": [
  {
   "cell_type": "markdown",
   "metadata": {},
   "source": [
    "#### Algorithm.\n",
    "This \"knight-on-a-chessboard\" is a classic problem in graph theory _i.e._ to be more specific it's specified as a **shortest path in unweighted graph** problem. The idea is that the knight can only move in certain ways (two horizontal move followed by a vertical one, or one horizontal move followed by two vertical ones), which implies that from any point on the chessboard, the knight can have 8 possible moves, which we can denote as - \n",
    "\\begin{equation}\n",
    "    (dx, dy) = [(-2,-1), (-2, 1), (-1, -2), (-1, 2), (1, -2), (1, 2), (2, -1), (2, 1)]\n",
    "\\end{equation}\n",
    "The goal is to find what is the shortest distance (_i.e.,_ #moves) from the start point to the end point.\n",
    "\n",
    "We can solve this kind of problem easily using search algorithms like [Breadth-First Search](https://en.wikipedia.org/wiki/Breadth-first_search) (BFS). I can't recall if/when I studied these in college, but here I remembered absolutely nothing about solving shortest path problem other than maybe remembering the name of [Djakstra's algorithm](http://en.wikipedia.org/wiki/Dijkstra%27s_algorithm). So, I looked it up online and found [this great video](https://www.youtube.com/watch?v=oDqjPvD54Ss) which explains BFS pretty well and [also this one](https://www.youtube.com/watch?v=KiCBXu4P-2Y) that shows how to apply BFS on a grid. Once I got the hang of it- the rest was easy :D \n",
    "\n"
   ]
  },
  {
   "cell_type": "code",
   "execution_count": 2,
   "metadata": {},
   "outputs": [],
   "source": [
    "\"\"\" Challenge 2.1. Chessboard \"\"\"\n",
    "\n",
    "## Breadth first search...\n",
    "import collections as col                       # For faster queuing\n",
    "\n",
    "class Point:                                    # Create Point class for convenience\n",
    "    def __init__(self, loc, N = 8):             # Only works for at most 2D points\n",
    "        self.N = N\n",
    "        if isinstance(loc, int):                # 1D point\n",
    "            self.x, self.y, self.lin = (loc // self.N), (loc % self.N), int(loc)\n",
    "            self.sq = (self.x, self.y)\n",
    "        else:                                   # 2D point\n",
    "            self.x, self.y, self.sq = loc[0], loc[1], tuple(loc)\n",
    "            self.lin = self.x * self.N + self.y\n",
    "        self.valid = (0 <= self.x < N) and (0 <= self.y < N)     # Check if a valid point\n",
    "        \n",
    "    def GetNeighbors(self, moves = list(zip([-2, -2, -1, -1,  1, 1,  2, 2], \n",
    "                                            [-1,  1, -2,  2, -2, 2, -1, 1]))):    # Default moves\n",
    "        neighbor_points = col.deque()\n",
    "        for dx, dy in moves:\n",
    "            neighbor = Point(loc = (self.x + dx, self.y + dy), N = self.N)\n",
    "            if neighbor.valid:\n",
    "                neighbor_points.append(neighbor)\n",
    "        return neighbor_points\n",
    "\n",
    "def solution(src, dest, N = 8, dist_map = False):      # If dist_map = True, return move counts\n",
    "    ## Initialize...    \n",
    "    move_count = col.defaultdict()                     # Distance map for move count\n",
    "    start = Point(src, N = N)    \n",
    "    path = col.deque([start]);    move_count[start.lin] = 0\n",
    "    \n",
    "    ## Start BFS...\n",
    "    while len(path) > 0:\n",
    "        now = path.popleft()\n",
    "        \n",
    "        if now.lin == dest:                            # Check if reached destination\n",
    "            return (move_count[now.lin], move_count) if dist_map else move_count[now.lin]\n",
    "        \n",
    "        for nxt in now.GetNeighbors():\n",
    "            if nxt.lin not in move_count.keys():       # Add point to path\n",
    "                move_count[nxt.lin] = move_count[now.lin] + 1\n",
    "                path.append(nxt)\n",
    "    ## End of BFS ##\n",
    "    \n",
    "    return (None, move_count) if dist_map else None    # Return None if non-solvable\n"
   ]
  },
  {
   "cell_type": "code",
   "execution_count": 3,
   "metadata": {},
   "outputs": [
    {
     "name": "stdout",
     "output_type": "stream",
     "text": [
      "#moves =  4\n",
      "Wall time: 997 µs\n",
      "#moves =  1\n",
      "Wall time: 0 ns\n",
      "#moves =  1\n",
      "Wall time: 0 ns\n",
      "#moves =  6\n",
      "Wall time: 1.99 ms\n",
      "#moves =  3\n",
      "Wall time: 999 µs\n"
     ]
    }
   ],
   "source": [
    "## Examples...\n",
    "%time print(\"#moves = \", solution(src = 0, dest = 9))\n",
    "%time print(\"#moves = \", solution(src = 19, dest = 36))\n",
    "%time print(\"#moves = \", solution(src = 0, dest = 17))\n",
    "%time print(\"#moves = \", solution(src = 0, dest = 63))\n",
    "%time print(\"#moves = \", solution(src = 0, dest = 1))"
   ]
  }
 ],
 "metadata": {
  "kernelspec": {
   "display_name": "Python 3",
   "language": "python",
   "name": "python3"
  },
  "language_info": {
   "codemirror_mode": {
    "name": "ipython",
    "version": 3
   },
   "file_extension": ".py",
   "mimetype": "text/x-python",
   "name": "python",
   "nbconvert_exporter": "python",
   "pygments_lexer": "ipython3",
   "version": "3.7.6"
  }
 },
 "nbformat": 4,
 "nbformat_minor": 4
}
