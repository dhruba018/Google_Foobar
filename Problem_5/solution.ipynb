{
 "cells": [
  {
   "cell_type": "markdown",
   "metadata": {},
   "source": [
    "#### Algorithm.\n",
    "Unique grid patterns by group actions. Use [Polya's Enumeration Theorem](https://en.wikipedia.org/wiki/P%C3%B3lya_enumeration_theorem). \n",
    "\n"
   ]
  },
  {
   "cell_type": "code",
   "execution_count": 1,
   "metadata": {},
   "outputs": [],
   "source": [
    "\"\"\" Challenge 5.0. Get unique grid configuarations by group \"\"\"\n",
    "\n",
    "import collections as col, itertools as it, operator as opt, functools as ft\n",
    "\n",
    "## Return products of all numbers in a list- analogous to sum...\n",
    "prod = lambda lst: ft.reduce(opt.mul, lst)\n",
    "\n",
    "## Generates factorials for a range [0, N]...\n",
    "def GetFactorials(N):\n",
    "    Factorials = col.defaultdict(None, {0: 1, 1: 1})\n",
    "    for n in range(2, N + 1):\n",
    "        Factorials[n] = Factorials[n - 1] * n\n",
    "    return Factorials\n",
    "\n",
    "## Generates GCDs for a grid of size N1 x N2 (only unique combinations)...\n",
    "def GetGCDs(N1, N2):\n",
    "    ## Since we're generating GCD values only for the unique \n",
    "    ## combinations, #rows <= #columns\n",
    "    m, n = (N1 + 1, N2 + 1) if (N1 <= N2) else (N2 + 1, N1 + 1)\n",
    "    \n",
    "    GCD = col.defaultdict(None, {(1, 1): 1})\n",
    "    for x in range(1, m):\n",
    "        for y in range(x, n):\n",
    "            if x == y:\n",
    "                GCD[(x, y)] = x\n",
    "            elif 2*x <= y:         # Only pairs (x, y) where x <= y are valid\n",
    "                GCD[(x, y)] = GCD[(x, y - x)]\n",
    "            else:\n",
    "                GCD[(x, y)] = GCD[(y - x, x)]\n",
    "    return GCD\n",
    "\n",
    "## Generate ascending compositions (ordered partitions) of an integer n...\n",
    "def PartitionGenerator(n):\n",
    "    Partition = [0 for i in range(n + 1)]\n",
    "    k = 1      # Index for parition length\n",
    "    Partition[1] = n\n",
    "    while k != 0:\n",
    "        ## Start with 1...\n",
    "        x = Partition[k - 1] + 1\n",
    "        y = Partition[k] - 1\n",
    "        k -= 1\n",
    "        \n",
    "        ## Caclulate inner partitions...\n",
    "        while x <= y:\n",
    "            Partition[k] = x\n",
    "            y -= x\n",
    "            k += 1\n",
    "        \n",
    "        Partition[k] = x + y\n",
    "        \n",
    "        ## Return i-th partition...\n",
    "        yield Partition[:k + 1]\n",
    "\n",
    "\n",
    "def solution(w, h, s):\n",
    "    ## Build tables for later access...\n",
    "    FactorialTable, GCDtable = GetFactorials(max(w, h)), GetGCDs(w, h)\n",
    "    \n",
    "    ## Necessary functions...\n",
    "    factorial = lambda n: FactorialTable[n]\n",
    "    gcd = lambda x, y: GCDtable[(x, y)] if (x <= y) else GCDtable[(y, x)]\n",
    "    # coefficient = lambda p: prod([q**k * factorial(k) for q, k in col.Counter(p).items()])\n",
    "    coefficient = lambda p: factorial(sum(p)) / prod([q**k * factorial(k) for q, k in col.Counter(p).items()])\n",
    "    \n",
    "    ## Count configurations [implementing Polya's Enumeration Theorem]...\n",
    "    grids = 0\n",
    "    for p_w in PartitionGenerator(w):\n",
    "        c_w = coefficient(p_w)\n",
    "        for p_h in PartitionGenerator(h):\n",
    "            c_h = coefficient(p_h)\n",
    "            # grids += s**sum([gcd(a, b) for a, b in it.product(p_w, p_h)]) / (c_w * c_h)\n",
    "            grids += c_w * c_h * s**sum([gcd(a, b) for a, b in it.product(p_w, p_h)])\n",
    "    # grids = str(int(grids))\n",
    "    grids = str(int( grids / (factorial(w) * factorial(h)) ))\n",
    "    return grids\n"
   ]
  },
  {
   "cell_type": "code",
   "execution_count": 2,
   "metadata": {},
   "outputs": [
    {
     "name": "stdout",
     "output_type": "stream",
     "text": [
      "Configuration count =  7\n",
      "Wall time: 997 µs\n",
      "Configuration count =  430\n",
      "Wall time: 998 µs\n"
     ]
    }
   ],
   "source": [
    "## Examples...\n",
    "%time print(\"Configuration count = \", solution(w = 2, h = 2, s = 2))\n",
    "%time print(\"Configuration count = \", solution(w = 2, h = 3, s = 4))\n"
   ]
  }
 ],
 "metadata": {
  "kernelspec": {
   "display_name": "Python 3",
   "language": "python",
   "name": "python3"
  },
  "language_info": {
   "codemirror_mode": {
    "name": "ipython",
    "version": 3
   },
   "file_extension": ".py",
   "mimetype": "text/x-python",
   "name": "python",
   "nbconvert_exporter": "python",
   "pygments_lexer": "ipython3",
   "version": "3.7.6"
  }
 },
 "nbformat": 4,
 "nbformat_minor": 4
}
