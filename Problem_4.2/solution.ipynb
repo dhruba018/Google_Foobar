{
 "cells": [
  {
   "cell_type": "markdown",
   "metadata": {},
   "source": [
    "#### Algorithm.\n",
    "Detecting infinite loops and pairing up elements in a list to maximize the occurences of infinite loops. Was much easier than initially thought. Even the naive approach worked! \n",
    "\n"
   ]
  },
  {
   "cell_type": "code",
   "execution_count": 1,
   "metadata": {},
   "outputs": [],
   "source": [
    "\"\"\" Challenge 4.2. Loop maximization problem \"\"\"\n",
    "\n",
    "import numpy as np, itertools as it\n",
    "\n",
    "def thumb_wrestling(pair, progress = False):\n",
    "    if progress:    print(\"Start: banana pair = \", pair)\n",
    "    \n",
    "    ## If the sum of bananas is odd, the participants will \n",
    "    ## never have equal number of bananas... \n",
    "    if sum(pair) % 2:\n",
    "        if progress:    print(\"Seems like this game will go on forever!\")\n",
    "        return True\n",
    "    \n",
    "    ## If the sum of bananas is even, the game can stop at one point...\n",
    "    rounds, GCD = 0, [np.gcd(*pair)]\n",
    "    while pair[0] != pair[1]:\n",
    "        rounds += 1;    bet, win = min(pair), int(pair[0] < pair[1])\n",
    "        pair = (pair[0] - (-1)**win * bet, pair[1] + (-1)**win * bet)\n",
    "        GCD.append(np.gcd(*pair))\n",
    "        if progress:    print(\"Round %d: banana pair = %s, \\tGCD = %d\" % (rounds, str(pair), GCD[-1]))\n",
    "        \n",
    "        ## For a looping game, the GCD of the two numbers will become fixed after 1/2 rounds- \n",
    "        ## while for a terminating game, it will be doubled in each round...\n",
    "        if sum(GCD[-1] == np.array(GCD)) > 3:\n",
    "            if progress:    print(\"Seems like this game will go on forever!\")\n",
    "            return True\n",
    "    if progress:    print(\"Game over! Total rounds played =\", rounds)\n",
    "    return False\n",
    "\n",
    "def solution(banana_list):\n",
    "    guards = len(banana_list)\n",
    "\n",
    "    ## Count loops for each guard & store loop partners...\n",
    "    loops, partners = [0 for _ in range(guards)], [[ ] for _ in range(guards)]\n",
    "    for i, j in it.combinations(range(guards), 2):\n",
    "        if thumb_wrestling((banana_list[i], banana_list[j]), progress = False):\n",
    "            loops[i] += 1;    partners[i].append(j)\n",
    "            loops[j] += 1;    partners[j].append(i)\n",
    "    sorted_guards = sorted(range(guards), key = lambda gg: loops[gg])    # Sort by loop counts\n",
    "    \n",
    "    ## Get best pairings & count occupied guards...\n",
    "    ##  Start with the guard with lowest loop count, pair him/her with the partner \n",
    "    ##  with highest loop count from available partners (not in another game already)\n",
    "    pairings, occupied = [ ], [ ]\n",
    "    for guard in sorted_guards:\n",
    "        if len(occupied) == guards:    break    \n",
    "        if guard not in occupied:\n",
    "            available = [pp for pp in partners[guard] if pp not in occupied]\n",
    "            if len(available):\n",
    "                if len(available) > 1:\n",
    "                    available = sorted(available, key = lambda pp: -loops[pp])\n",
    "                pairings.append((guard, available[0]))\n",
    "                occupied += list(pairings[-1])\n",
    "    left = guards - len(occupied)\n",
    "    return left\n"
   ]
  },
  {
   "cell_type": "code",
   "execution_count": 2,
   "metadata": {},
   "outputs": [
    {
     "name": "stdout",
     "output_type": "stream",
     "text": [
      "Number of guards left to watch the prisoners =  2\n",
      "Wall time: 0 ns\n",
      "Number of guards left to watch the prisoners =  0\n",
      "Wall time: 998 µs\n",
      "Number of guards left to watch the prisoners =  0\n",
      "Wall time: 1.99 ms\n",
      "Number of guards left to watch the prisoners =  4\n",
      "Wall time: 0 ns\n"
     ]
    }
   ],
   "source": [
    "## Examples...\n",
    "%time print(\"Number of guards left to watch the prisoners = \", solution(banana_list = [1, 1]))\n",
    "%time print(\"Number of guards left to watch the prisoners = \", solution(banana_list = [1, 7, 3, 21, 13, 19]))\n",
    "%time print(\"Number of guards left to watch the prisoners = \", solution(banana_list = [1, 7, 5, 3, 19, 13, 53, 61]))\n",
    "%time print(\"Number of guards left to watch the prisoners = \", solution(banana_list = [1, 3, 3, 1, 5, 1]))\n"
   ]
  }
 ],
 "metadata": {
  "kernelspec": {
   "display_name": "Python 3",
   "language": "python",
   "name": "python3"
  },
  "language_info": {
   "codemirror_mode": {
    "name": "ipython",
    "version": 3
   },
   "file_extension": ".py",
   "mimetype": "text/x-python",
   "name": "python",
   "nbconvert_exporter": "python",
   "pygments_lexer": "ipython3",
   "version": "3.7.6"
  }
 },
 "nbformat": 4,
 "nbformat_minor": 1
}
