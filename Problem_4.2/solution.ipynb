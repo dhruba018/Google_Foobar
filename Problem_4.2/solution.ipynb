{
 "cells": [
  {
   "cell_type": "markdown",
   "metadata": {},
   "source": [
    "#### Algorithm. \n",
    "_Man- did I take some really long breaks before and after each Level 4 problems! Maybe I was getting bored (even though the questions got really interesting), or maybe I'm just worried about my research (life of a PhD student- eh!)_\n",
    "\n",
    "This one is a mixed bag. I initially thought it's gonna take me some time- but ultimately the base code took only a few hours. Basically, the problem asks us to pair up a number of guards with different amounts of bananas in thumb wrestling games where the guard with less bananas will bet all of their bananas (and will win due to \"overconfident guard psychology\"). This will continue for a number of rounds till both guards have the same amount of bananas (which is why we never start with a guard pair with same number of bananas). The goal is to keep the guards distracted as long as possible- so we want to pair them up in such a way that their games continue back and forth in an infinite loop.\n",
    "\n",
    "The first part of the problem is to detect the pairs that will result in infinite loops. Once that is done, we can make a <code>list</code> with individual loop counts for all guards as well as a <code>list</code> for the loop partners for each guard to use in the second part. Now, we can detect an infinite loop in various ways - \n",
    "* We can let the guards play a certain number of rounds and once the game continues past that round- we'll call it an infinite loop. This is the naive approach and we arbitrarily decide on the terminating round. I started with this using <code>round = 10</code>. And, to my utter surprise, **this worked even for all the test examples with sufficient rounds** (*i.e.*, <code>round = 30</code>). \n",
    "* We can keep track of the banana pairs already seen in the game and if any of them repeats- it'll imply that they're in an infinite loop. A bit better than the naive approach- but heavily dependent upon the number of bananas at play. I tried this second with a hypothetical case of banana pairs $(2^{30},\\ 2^{30} - 2)$ which took around 30 rounds to get the first repeatation. Note that, I consider the pair $(x, y)$ same as the pair $(y, x)$ since in both cases the game is going in the same direction (as the total banana count _never_ changes) with the player roles reversed. \n",
    "* We can check the **greatest common divisor (GCD)** of the pair $(x, y)$. From the [Euclidean algorithm](https://en.wikipedia.org/wiki/Euclidean_algorithm) for calculating GCD- it can be implied that the pair that has the same GCD throughout a number of rounds will go on forever, while for a terminating pair, it will be doubled in each round. We might also have a composite situation where the first few rounds will be nonrepeating and GCD will increase, but once the game enters a loop, the GCD will get fixed. So, intuitively, I kept track of the GCDs of each pair in each round (again a <code>list</code>) and whenever a certain GCD appears more than a few times (used 3 as tolerance), I infer it to be an infinite loop. Have to thank internet again for this one- somebody on stack overflow mentioned that the GCD for a looping pair never changes- I got intrigued and checked it out to be true! The rest got easy after that. This is what I used in the final version of my code since this doesn't need to be run as long as the other two. \n",
    "\n",
    "The second part is to pair up the guards so that a maximum possible number of guards will be busy. So, this is the problem of choosing the best pairs that maximizes the number of infinite loops. I tried two simple things here- and surprisingly, one of them worked! \n",
    "* We can sort the guards ascendingly according to their number of infinite game pairings. Then, choose the guard with the lowest number of loops and pair him/her up with the partner who has the lowest number of loops among all the partners who can have infinite loop games with the  guard (and are not occupied in another game). This intuitively makes sense since if we want the best possible combo of guards to maximize loops- we must start with the guard who has the lowest number of loops with the other guards. And we can think of similar logic for his/her partner too. But the caveat is this might cause us to lose some other possible pairings that will maximize loops. I drew up some random examples (pen and paper)- tried with this and faced this issue a couple of times. \n",
    "* We still sort the guards according to the number of infinite loops and choose the guard with the lowest number of loops. But, this time we pair him/her up with the partner who has the most number of infinite loop partners among all available partners. My rationale for this is that we still have to start with the guard with the lowest number of loops but we should choose a partner who is less restrictive- and thus not blocking some passible pairings (like we did when we chose the partner with lowest loops) and potentially keeping a lot of other loop pairings unoccupied. This is what I went with at the end- and it worked for all cases without any special tweaking! \n",
    "\n",
    "So, overall this was nice combinatorial problem that was fun to solve and easier than it appears to be at first (at least for me)! \n"
   ]
  },
  {
   "cell_type": "code",
   "execution_count": 2,
   "metadata": {},
   "outputs": [],
   "source": [
    "\"\"\" Challenge 4.2. Loop maximization problem \"\"\"\n",
    "\n",
    "import numpy as np, itertools as it\n",
    "\n",
    "def thumb_wrestling(pair, progress = False):\n",
    "    ## Simulates the thumb wrestling game between two guards- returns True if the game \n",
    "    ## ends up in a loop, False otherwise\n",
    "    if progress:    print(\"Start: banana pair = \", pair),\n",
    "    \n",
    "    ## If the sum is odd, the participants will never have equal number of bananas... \n",
    "    if sum(pair) % 2:\n",
    "        if progress:    print(\"Seems like this game will go on forever!\")\n",
    "        return True\n",
    "    \n",
    "    ## If the sum is even, the game can stop at one point... \n",
    "    rounds, GCD = 0, [np.gcd(*pair)]\n",
    "    while pair[0] != pair[1]:\n",
    "        rounds += 1;    bet, win = min(pair), int(pair[0] < pair[1])\n",
    "        pair = (pair[0] - (-1)**win * bet, pair[1] + (-1)**win * bet)\n",
    "        GCD.append(np.gcd(*pair))\n",
    "        if progress:    print(\"Round %d: banana pair = %s, \\tGCD = %d\" % (rounds, str(pair), GCD[-1]))\n",
    "\n",
    "        ## For a looping game, the GCD of the two numbers will become fixed after a few rounds- \n",
    "        ## while for a terminating game, it will be doubled in each round... \n",
    "        if sum(GCD[-1] == np.array(GCD)) > 3:\n",
    "            if progress:    print(\"Seems like this game will go on forever!\")\n",
    "            return True\n",
    "    ## End of loop ##\n",
    "    \n",
    "    if progress:    print(\"Game over! Total rounds played =\", rounds)\n",
    "    return False\n",
    "\n",
    "def solution(banana_list):\n",
    "    guards = len(banana_list)\n",
    "    \n",
    "    ## Count loops for each guard & store loop partners... \n",
    "    loops, partners = [0 for _ in range(guards)], [[ ] for _ in range(guards)]\n",
    "    for i, j in it.combinations(range(guards), 2):\n",
    "        if thumb_wrestling((banana_list[i], banana_list[j]), progress = False):\n",
    "            loops[i] += 1;    partners[i].append(j)\n",
    "            loops[j] += 1;    partners[j].append(i)\n",
    "    sorted_guards = sorted(range(guards), key = lambda gg: loops[gg])    # Sort by loop counts\n",
    "    \n",
    "    ## Get best pairings & count occupied guards... \n",
    "    ##  Start with the guard with lowest loop count, pair him/her with the partner \n",
    "    ##  with highest loop count from available partners (not in another game already) \n",
    "    pairings, occupied = [ ], [ ]\n",
    "    for guard in sorted_guards:\n",
    "        if len(occupied) == guards:    break\n",
    "        if guard not in occupied:\n",
    "            available = [pp for pp in partners[guard] if pp not in occupied]\n",
    "            if len(available):\n",
    "                if len(available) > 1:\n",
    "                    available = sorted(available, key = lambda pp: -loops[pp])\n",
    "                pairings.append((guard, available[0]))\n",
    "                occupied += list(pairings[-1])\n",
    "    ## End of loop ##\n",
    "    \n",
    "    left = guards - len(occupied)\n",
    "    return left\n"
   ]
  },
  {
   "cell_type": "code",
   "execution_count": 3,
   "metadata": {},
   "outputs": [
    {
     "name": "stdout",
     "output_type": "stream",
     "text": [
      "Number of guards left to watch the prisoners =  2\n",
      "Wall time: 0 ns\n",
      "Number of guards left to watch the prisoners =  0\n",
      "Wall time: 1.99 ms\n",
      "Number of guards left to watch the prisoners =  0\n",
      "Wall time: 1.99 ms\n",
      "Number of guards left to watch the prisoners =  4\n",
      "Wall time: 0 ns\n",
      "Number of guards left to watch the prisoners =  0\n",
      "Wall time: 0 ns\n"
     ]
    }
   ],
   "source": [
    "## Examples... \n",
    "%time print(\"Number of guards left to watch the prisoners = \", solution(banana_list = [1, 1]))\n",
    "%time print(\"Number of guards left to watch the prisoners = \", solution(banana_list = [1, 7, 3, 21, 13, 19]))\n",
    "%time print(\"Number of guards left to watch the prisoners = \", solution(banana_list = [1, 7, 5, 3, 19, 13, 53, 61]))\n",
    "%time print(\"Number of guards left to watch the prisoners = \", solution(banana_list = [1, 3, 3, 1, 5, 1]))\n",
    "%time print(\"Number of guards left to watch the prisoners = \", solution(banana_list = [2**30 - 1, 2**30 - 3]))"
   ]
  }
 ],
 "metadata": {
  "kernelspec": {
   "display_name": "Python 3",
   "language": "python",
   "name": "python3"
  },
  "language_info": {
   "codemirror_mode": {
    "name": "ipython",
    "version": 3
   },
   "file_extension": ".py",
   "mimetype": "text/x-python",
   "name": "python",
   "nbconvert_exporter": "python",
   "pygments_lexer": "ipython3",
   "version": "3.7.6"
  }
 },
 "nbformat": 4,
 "nbformat_minor": 4
}
