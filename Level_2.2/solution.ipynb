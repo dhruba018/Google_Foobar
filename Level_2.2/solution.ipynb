{
 "cells": [
  {
   "cell_type": "markdown",
   "metadata": {},
   "source": [
    "#### Algorithm.\n",
    "Another simple one. The hard part is basically _base conversion_ and then converting the number in appropriate base to strings. Since the [4-step algorithm](https://github.com/dhruba018/Google_Foobar/tree/master/Level_2.2) is already given, what I did is just implement this algorithm and record the frequency of each number as it appears. Once the 'm'-th number appears more than a set tolerance level 't', I add all the numbers that appears at least t times to the cycle and return its length. Note that **num2str()** only works for 2 <= bases <= 10 since this is the limitation that the problem statement imposes.\n"
   ]
  },
  {
   "cell_type": "code",
   "execution_count": 6,
   "metadata": {},
   "outputs": [],
   "source": [
    "\"\"\" Challenge 2.2. Loop \"\"\"\n",
    "\n",
    "## Base conversion + frequency count...\n",
    "def num2str(num, base = 2):                    # Only works for base in [2, 10]\n",
    "    num_base_str = [ ]\n",
    "    while num > 0:\n",
    "        num_base_str.append(str(num % base))\n",
    "        num //= base\n",
    "    num_base_str = \"\".join(num_base_str[::-1])\n",
    "    return num_base_str\n",
    "\n",
    "def solution(n, b):\n",
    "    k = len(n);    freq = { };    tol = 5      # Freq tolerance for cycling\n",
    "    while 1:\n",
    "        freq[n] = freq[n] + 1 if n in freq else 1\n",
    "        if freq[n] > tol:\n",
    "            cycle = [nn for nn in freq.keys() if freq[nn] > tol - 1]\n",
    "            return len(cycle)\n",
    "        \n",
    "        ## Else continue...\n",
    "        x = int(\"\".join(sorted(n)[::-1]), b);   y = int(\"\".join(sorted(n)), b)\n",
    "        z = num2str(x - y, base = b)\n",
    "        n = \"0\" * (k - len(z)) + z if len(z) < k else z\n",
    "    ## End of loop ##\n"
   ]
  },
  {
   "cell_type": "code",
   "execution_count": 5,
   "metadata": {},
   "outputs": [
    {
     "name": "stdout",
     "output_type": "stream",
     "text": [
      "Cycle length =  1\n",
      "Cycle length =  3\n"
     ]
    }
   ],
   "source": [
    "## Examples...\n",
    "print(\"Cycle length = \", solution(n = \"1211\", b = 10))\n",
    "print(\"Cycle length = \", solution(n = \"210022\", b = 3))\n"
   ]
  }
 ],
 "metadata": {
  "kernelspec": {
   "display_name": "Python 3",
   "language": "python",
   "name": "python3"
  },
  "language_info": {
   "codemirror_mode": {
    "name": "ipython",
    "version": 3
   },
   "file_extension": ".py",
   "mimetype": "text/x-python",
   "name": "python",
   "nbconvert_exporter": "python",
   "pygments_lexer": "ipython3",
   "version": "3.7.6"
  }
 },
 "nbformat": 4,
 "nbformat_minor": 4
}
