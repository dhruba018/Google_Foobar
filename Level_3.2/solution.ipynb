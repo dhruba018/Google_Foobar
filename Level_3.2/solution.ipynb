{
 "cells": [
  {
   "cell_type": "markdown",
   "metadata": {},
   "source": [
    "#### Algorithm.\n",
    "Dynamic programming - bottom-up approach\n"
   ]
  },
  {
   "cell_type": "code",
   "execution_count": 2,
   "metadata": {},
   "outputs": [],
   "source": [
    "\"\"\" Challenge 3.2. Staircase problem \"\"\"\n",
    "\n",
    "## Dynamic programming - bottom-up approach...\n",
    "def solution(n):\n",
    "    # Array for keeping ways...\n",
    "    stairs = [[0 for i in range(n + 1)] for j in range(n + 1)]\n",
    "    stairs[0][0] = 1              # Base case\n",
    "    \n",
    "    ## Calculate the #ways of making a staircase of height 'h' with 'b' bricks\n",
    "    ## ways(h, b) = ways(h-1, b) + (new_steps(h-1, b-h) if b >= h)\n",
    "    for h in range(1, n + 1):\n",
    "        for b in range(n + 1):\n",
    "            stairs[h][b] = stairs[h - 1][b] + stairs[h - 1][b - h] * int(b >= h)\n",
    "    ## End of loop ##\n",
    "    \n",
    "    count = stairs[n][n] - 1     # Subtract one invalid staircase (base case)\n",
    "    return count\n"
   ]
  },
  {
   "cell_type": "code",
   "execution_count": 4,
   "metadata": {},
   "outputs": [
    {
     "name": "stdout",
     "output_type": "stream",
     "text": [
      "Number of possible steps = 1\n",
      "Wall time: 0 ns\n",
      "Number of possible steps = 141\n",
      "Wall time: 0 ns\n",
      "Number of possible steps = 487067745\n",
      "Wall time: 29.9 ms\n"
     ]
    }
   ],
   "source": [
    "## Examples...\n",
    "%time print(\"Number of possible steps = %d\" % solution(n = 3))\n",
    "%time print(\"Number of possible steps = %d\" % solution(n = 25))\n",
    "%time print(\"Number of possible steps = %d\" % solution(n = 200))\n"
   ]
  }
 ],
 "metadata": {
  "kernelspec": {
   "display_name": "Python 3",
   "language": "python",
   "name": "python3"
  },
  "language_info": {
   "codemirror_mode": {
    "name": "ipython",
    "version": 3
   },
   "file_extension": ".py",
   "mimetype": "text/x-python",
   "name": "python",
   "nbconvert_exporter": "python",
   "pygments_lexer": "ipython3",
   "version": "3.7.6"
  }
 },
 "nbformat": 4,
 "nbformat_minor": 1
}
