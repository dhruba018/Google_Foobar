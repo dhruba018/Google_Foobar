{
 "cells": [
  {
   "cell_type": "markdown",
   "metadata": {},
   "source": [
    "#### Algorithm.\n",
    "There's not much of an algorithmic complexity in this one (translation: _\"aww! that's easy\"_ ). Basically I generated a frequency dict for each entry in the list and then keep only those entries which don't appear more than the maximum frequency. \n"
   ]
  },
  {
   "cell_type": "code",
   "execution_count": 1,
   "metadata": {},
   "outputs": [],
   "source": [
    "\"\"\" Challenge 1.0. Repeatation \"\"\"\n",
    "\n",
    "def solution(data, n):\n",
    "    ## Build frequncy dict...\n",
    "    freq, data_new = { }, [ ]\n",
    "    for k in data:\n",
    "        freq[k] = freq[k] + 1 if (k in freq) else 1\n",
    "    \n",
    "    ## Filter out entries if freq > n...\n",
    "    data_new = [kk for kk in data if freq[kk] <= n]\n",
    "    return data_new\n"
   ]
  },
  {
   "cell_type": "code",
   "execution_count": 2,
   "metadata": {},
   "outputs": [
    {
     "name": "stdout",
     "output_type": "stream",
     "text": [
      "Filtered list =  [5, 15, 7]\n",
      "Wall time: 0 ns\n",
      "Filtered list =  []\n",
      "Wall time: 0 ns\n",
      "Filtered list =  [1, 4]\n",
      "Wall time: 0 ns\n"
     ]
    }
   ],
   "source": [
    "## Examples...\n",
    "%time print(\"Filtered list = \", solution([5, 10, 15, 10, 7], n = 1))\n",
    "%time print(\"Filtered list = \", solution([1, 2, 3], n = 0))\n",
    "%time print(\"Filtered list = \", solution([1, 2, 2, 3, 3, 3, 4, 5, 5], n = 1))"
   ]
  }
 ],
 "metadata": {
  "kernelspec": {
   "display_name": "Python 3",
   "language": "python",
   "name": "python3"
  },
  "language_info": {
   "codemirror_mode": {
    "name": "ipython",
    "version": 3
   },
   "file_extension": ".py",
   "mimetype": "text/x-python",
   "name": "python",
   "nbconvert_exporter": "python",
   "pygments_lexer": "ipython3",
   "version": "3.7.6"
  }
 },
 "nbformat": 4,
 "nbformat_minor": 4
}
